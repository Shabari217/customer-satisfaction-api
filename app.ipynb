{
 "cells": [
  {
   "cell_type": "code",
   "execution_count": 2,
   "id": "6637cef9",
   "metadata": {},
   "outputs": [
    {
     "name": "stdout",
     "output_type": "stream",
     "text": [
      "Collecting flask\n",
      "  Downloading flask-3.1.0-py3-none-any.whl (102 kB)\n",
      "                                              0.0/103.0 kB ? eta -:--:--\n",
      "     -----------                              30.7/103.0 kB ? eta -:--:--\n",
      "     ----------------------                61.4/103.0 kB 825.8 kB/s eta 0:00:01\n",
      "     -------------------------------------- 103.0/103.0 kB 1.2 MB/s eta 0:00:00\n",
      "Requirement already satisfied: joblib in c:\\users\\grees\\anaconda3\\envs\\ml\\lib\\site-packages (1.3.0)\n",
      "Requirement already satisfied: pandas in c:\\users\\grees\\anaconda3\\envs\\ml\\lib\\site-packages (2.0.3)\n",
      "Requirement already satisfied: numpy in c:\\users\\grees\\anaconda3\\envs\\ml\\lib\\site-packages (1.25.0)\n",
      "Requirement already satisfied: scikit-learn in c:\\users\\grees\\anaconda3\\envs\\ml\\lib\\site-packages (1.2.2)\n",
      "Collecting Werkzeug>=3.1 (from flask)\n",
      "  Downloading werkzeug-3.1.3-py3-none-any.whl (224 kB)\n",
      "                                              0.0/224.5 kB ? eta -:--:--\n",
      "     ------                                41.0/224.5 kB 991.0 kB/s eta 0:00:01\n",
      "     ----------------                        92.2/224.5 kB 1.3 MB/s eta 0:00:01\n",
      "     ------------------------               143.4/224.5 kB 1.1 MB/s eta 0:00:01\n",
      "     -----------------------------          174.1/224.5 kB 1.1 MB/s eta 0:00:01\n",
      "     -------------------------------------- 224.5/224.5 kB 1.1 MB/s eta 0:00:00\n",
      "Requirement already satisfied: Jinja2>=3.1.2 in c:\\users\\grees\\anaconda3\\envs\\ml\\lib\\site-packages (from flask) (3.1.2)\n",
      "Collecting itsdangerous>=2.2 (from flask)\n",
      "  Downloading itsdangerous-2.2.0-py3-none-any.whl (16 kB)\n",
      "Collecting click>=8.1.3 (from flask)\n",
      "  Downloading click-8.1.8-py3-none-any.whl (98 kB)\n",
      "                                              0.0/98.2 kB ? eta -:--:--\n",
      "     ------------                             30.7/98.2 kB ? eta -:--:--\n",
      "     ---------------------------------        81.9/98.2 kB 2.3 MB/s eta 0:00:01\n",
      "     ---------------------------------------- 98.2/98.2 kB 1.4 MB/s eta 0:00:00\n",
      "Collecting blinker>=1.9 (from flask)\n",
      "  Downloading blinker-1.9.0-py3-none-any.whl (8.5 kB)\n",
      "Requirement already satisfied: python-dateutil>=2.8.2 in c:\\users\\grees\\anaconda3\\envs\\ml\\lib\\site-packages (from pandas) (2.8.2)\n",
      "Requirement already satisfied: pytz>=2020.1 in c:\\users\\grees\\anaconda3\\envs\\ml\\lib\\site-packages (from pandas) (2023.3)\n",
      "Requirement already satisfied: tzdata>=2022.1 in c:\\users\\grees\\anaconda3\\envs\\ml\\lib\\site-packages (from pandas) (2023.3)\n",
      "Requirement already satisfied: scipy>=1.3.2 in c:\\users\\grees\\anaconda3\\envs\\ml\\lib\\site-packages (from scikit-learn) (1.10.1)\n",
      "Requirement already satisfied: threadpoolctl>=2.0.0 in c:\\users\\grees\\anaconda3\\envs\\ml\\lib\\site-packages (from scikit-learn) (3.1.0)\n",
      "Requirement already satisfied: colorama in c:\\users\\grees\\anaconda3\\envs\\ml\\lib\\site-packages (from click>=8.1.3->flask) (0.4.6)\n",
      "Requirement already satisfied: MarkupSafe>=2.0 in c:\\users\\grees\\anaconda3\\envs\\ml\\lib\\site-packages (from Jinja2>=3.1.2->flask) (2.1.1)\n",
      "Requirement already satisfied: six>=1.5 in c:\\users\\grees\\anaconda3\\envs\\ml\\lib\\site-packages (from python-dateutil>=2.8.2->pandas) (1.16.0)\n",
      "Installing collected packages: Werkzeug, itsdangerous, click, blinker, flask\n",
      "  Attempting uninstall: Werkzeug\n",
      "    Found existing installation: Werkzeug 2.2.3\n",
      "    Uninstalling Werkzeug-2.2.3:\n",
      "      Successfully uninstalled Werkzeug-2.2.3\n",
      "  Attempting uninstall: click\n",
      "    Found existing installation: click 8.0.4\n",
      "    Uninstalling click-8.0.4:\n",
      "      Successfully uninstalled click-8.0.4\n",
      "  Attempting uninstall: blinker\n",
      "    Found existing installation: blinker 1.4\n",
      "    Uninstalling blinker-1.4:\n",
      "      Successfully uninstalled blinker-1.4\n",
      "Successfully installed Werkzeug-3.1.3 blinker-1.9.0 click-8.1.8 flask-3.1.0 itsdangerous-2.2.0\n",
      "Note: you may need to restart the kernel to use updated packages.\n"
     ]
    },
    {
     "name": "stderr",
     "output_type": "stream",
     "text": [
      "ERROR: pip's dependency resolver does not currently take into account all the packages that are installed. This behaviour is the source of the following dependency conflicts.\n",
      "tensorflow 2.10.0 requires libclang>=13.0.0, which is not installed.\n",
      "tensorflow 2.10.0 requires tensorflow-io-gcs-filesystem>=0.23.1, which is not installed.\n",
      "tensorboard 2.10.0 requires protobuf<3.20,>=3.9.2, but you have protobuf 3.20.3 which is incompatible.\n",
      "tensorflow 2.10.0 requires protobuf<3.20,>=3.9.2, but you have protobuf 3.20.3 which is incompatible.\n"
     ]
    }
   ],
   "source": [
    "pip install flask joblib pandas numpy scikit-learn\n"
   ]
  },
  {
   "cell_type": "code",
   "execution_count": 3,
   "id": "867ef45c",
   "metadata": {},
   "outputs": [
    {
     "name": "stdout",
     "output_type": "stream",
     "text": [
      " * Serving Flask app '__main__'\n",
      " * Debug mode: on\n"
     ]
    },
    {
     "name": "stderr",
     "output_type": "stream",
     "text": [
      "WARNING: This is a development server. Do not use it in a production deployment. Use a production WSGI server instead.\n",
      " * Running on http://127.0.0.1:5000\n",
      "Press CTRL+C to quit\n",
      " * Restarting with stat\n"
     ]
    },
    {
     "ename": "SystemExit",
     "evalue": "1",
     "output_type": "error",
     "traceback": [
      "An exception has occurred, use %tb to see the full traceback.\n",
      "\u001b[1;31mSystemExit\u001b[0m\u001b[1;31m:\u001b[0m 1\n"
     ]
    },
    {
     "name": "stderr",
     "output_type": "stream",
     "text": [
      "C:\\Users\\grees\\anaconda3\\envs\\ml\\lib\\site-packages\\IPython\\core\\interactiveshell.py:3513: UserWarning: To exit: use 'exit', 'quit', or Ctrl-D.\n",
      "  warn(\"To exit: use 'exit', 'quit', or Ctrl-D.\", stacklevel=1)\n"
     ]
    }
   ],
   "source": [
    "from flask import Flask, request, jsonify\n",
    "\n",
    "app = Flask(__name__)  # Initialize Flask app\n",
    "\n",
    "@app.route(\"/\")  # Home route\n",
    "def home():\n",
    "    return \"Flask API is Running!\"\n",
    "\n",
    "@app.route(\"/predict\", methods=[\"POST\"])  # Prediction route\n",
    "def predict():\n",
    "    data = request.get_json()  # Get JSON input\n",
    "    return jsonify({\"message\": \"Received data\", \"data\": data})  # Echo back data\n",
    "\n",
    "if __name__ == \"__main__\":\n",
    "    app.run(debug=True)\n"
   ]
  },
  {
   "cell_type": "code",
   "execution_count": 4,
   "id": "f4b65c4d",
   "metadata": {},
   "outputs": [
    {
     "name": "stderr",
     "output_type": "stream",
     "text": [
      "[NbConvertApp] Converting notebook app.ipynb to script\n",
      "[NbConvertApp] Writing 554 bytes to app.py\n"
     ]
    }
   ],
   "source": [
    "!jupyter nbconvert --to script app.ipynb"
   ]
  },
  {
   "cell_type": "code",
   "execution_count": 5,
   "id": "10cb0ee2",
   "metadata": {},
   "outputs": [
    {
     "name": "stdout",
     "output_type": "stream",
     "text": [
      "C:\\Users\\grees\\INTERNSHIP\\CUSTOMER SATISFACTION\n"
     ]
    }
   ],
   "source": [
    "import os \n",
    "print(os.getcwd())"
   ]
  }
 ],
 "metadata": {
  "kernelspec": {
   "display_name": "Python 3 (ipykernel)",
   "language": "python",
   "name": "python3"
  },
  "language_info": {
   "codemirror_mode": {
    "name": "ipython",
    "version": 3
   },
   "file_extension": ".py",
   "mimetype": "text/x-python",
   "name": "python",
   "nbconvert_exporter": "python",
   "pygments_lexer": "ipython3",
   "version": "3.10.11"
  }
 },
 "nbformat": 4,
 "nbformat_minor": 5
}
